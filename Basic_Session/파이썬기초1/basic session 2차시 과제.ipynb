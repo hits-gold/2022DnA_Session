{
 "cells": [
  {
   "cell_type": "markdown",
   "id": "4f306ed8",
   "metadata": {},
   "source": [
    "### Q1. 본인의 이름, 학번, 좋아하는 음식을 value에 넣어 dictionary를 완성시켜 보세요"
   ]
  },
  {
   "cell_type": "code",
   "execution_count": null,
   "id": "138d3985",
   "metadata": {},
   "outputs": [],
   "source": [
    "info = {\"이름\" :  , \"학번\" : , \"음식\" : }"
   ]
  },
  {
   "cell_type": "markdown",
   "id": "ec6d66b3",
   "metadata": {},
   "source": [
    "### Q2. 1번에서 만든 dictionary에서 좋아하는 음식(value)를 key를 사용해 출력해보세요"
   ]
  },
  {
   "cell_type": "code",
   "execution_count": null,
   "id": "9fe160e1",
   "metadata": {},
   "outputs": [],
   "source": [
    "print()"
   ]
  },
  {
   "cell_type": "markdown",
   "id": "0f24c91d",
   "metadata": {},
   "source": [
    "### Q3. 다음 a라는 리스트에서 중복된 요소가 제거된 리스트를 만들어 출력해보세요"
   ]
  },
  {
   "cell_type": "code",
   "execution_count": null,
   "id": "7231a27b",
   "metadata": {},
   "outputs": [],
   "source": [
    "a = [1, 1, 2, 2, 2, 3, 4, 5, 5]"
   ]
  },
  {
   "cell_type": "markdown",
   "id": "ac2e8b6d",
   "metadata": {},
   "source": [
    "### Q4. 1이라는 한 요소가 담긴 튜플을 만들어 출력해보세요"
   ]
  },
  {
   "cell_type": "code",
   "execution_count": null,
   "id": "287a9b9b",
   "metadata": {},
   "outputs": [],
   "source": [
    "tu_ple =          \n",
    "print(tu_ple)"
   ]
  },
  {
   "cell_type": "markdown",
   "id": "908c41d3",
   "metadata": {},
   "source": [
    "### Q5. datetime 모듈을 사용해 올해 어린이날부터 크리스마스까지 얼마나 남았나 계산해보세요!"
   ]
  },
  {
   "cell_type": "code",
   "execution_count": null,
   "id": "449dc81c",
   "metadata": {},
   "outputs": [],
   "source": [
    "import datetime\n",
    "\n",
    "christmas = \n",
    "kidday = "
   ]
  },
  {
   "cell_type": "markdown",
   "id": "520a7d8c",
   "metadata": {},
   "source": [
    "### Q6. 리스트 문제!"
   ]
  },
  {
   "cell_type": "code",
   "execution_count": null,
   "id": "d18449e3",
   "metadata": {},
   "outputs": [],
   "source": [
    "listt = [20, 120, 50, 70, 40, 90, 50, 80, 60]"
   ]
  },
  {
   "cell_type": "markdown",
   "id": "c90a944b",
   "metadata": {},
   "source": [
    "(1)\n",
    "listt에서 60을 제거하세요"
   ]
  },
  {
   "cell_type": "code",
   "execution_count": null,
   "id": "e8043bb3",
   "metadata": {},
   "outputs": [],
   "source": []
  },
  {
   "cell_type": "markdown",
   "id": "8b276040",
   "metadata": {},
   "source": [
    "(2)\n",
    "listt의 앞 네 요소를 출력하세요"
   ]
  },
  {
   "cell_type": "code",
   "execution_count": null,
   "id": "22d89cb0",
   "metadata": {},
   "outputs": [],
   "source": []
  },
  {
   "cell_type": "markdown",
   "id": "7100e0c4",
   "metadata": {},
   "source": [
    "(3)\n",
    "listt를 요소의 크기를 기준으로 정렬하세요"
   ]
  },
  {
   "cell_type": "code",
   "execution_count": null,
   "id": "cfceebe1",
   "metadata": {},
   "outputs": [],
   "source": []
  },
  {
   "cell_type": "markdown",
   "id": "ff8cb7cc",
   "metadata": {},
   "source": [
    "(4)\n",
    "listt의 맨 마지막 요소를 출력하세요"
   ]
  },
  {
   "cell_type": "code",
   "execution_count": null,
   "id": "73ff23bd",
   "metadata": {},
   "outputs": [],
   "source": []
  },
  {
   "cell_type": "markdown",
   "id": "b4f78058",
   "metadata": {},
   "source": [
    "(5)\n",
    "listt의 요소를 모두 삭제한 후 리스트를 출력하세요"
   ]
  },
  {
   "cell_type": "code",
   "execution_count": null,
   "id": "3b294a6f",
   "metadata": {},
   "outputs": [],
   "source": []
  },
  {
   "cell_type": "markdown",
   "id": "722b4a03",
   "metadata": {},
   "source": [
    "(6) listt를 삭제하세요 (삭제 후 삭제가 되었나 출력까지 해보기)"
   ]
  },
  {
   "cell_type": "code",
   "execution_count": null,
   "id": "413bdef2",
   "metadata": {},
   "outputs": [],
   "source": []
  },
  {
   "cell_type": "code",
   "execution_count": null,
   "id": "0bf6627d",
   "metadata": {},
   "outputs": [],
   "source": []
  },
  {
   "cell_type": "markdown",
   "id": "b978eed6",
   "metadata": {},
   "source": [
    "### Q7. 다음 두 리스트의 요소들을 동일한 인덱스를 가지는 요소끼리 튜플로 묶어, 이것을 다시 리스트에 담아 출력해보세요"
   ]
  },
  {
   "cell_type": "code",
   "execution_count": null,
   "id": "42c9aa5a",
   "metadata": {},
   "outputs": [],
   "source": [
    "player = [\"손흥민\", \"메시\", \"홀란드\", \"네이마르\"]\n",
    "number = [7, 30, 9, 10]"
   ]
  },
  {
   "cell_type": "markdown",
   "id": "afa78763",
   "metadata": {},
   "source": [
    "### Q8. 다음 수의 각 자리수를 변수를 사용하여 더해보세요"
   ]
  },
  {
   "cell_type": "code",
   "execution_count": null,
   "id": "abf4af7b",
   "metadata": {},
   "outputs": [],
   "source": [
    "a = 647"
   ]
  },
  {
   "cell_type": "markdown",
   "id": "1d729b39",
   "metadata": {},
   "source": [
    "### Q9. 1번에서 만들었던 dictionary에서 각 value를 가져와 문자열 포매팅을 사용해서 다음 문장을 출력해보세요\n",
    "(ex)\n",
    "\"제 이름은 김띵키이고, 학번은 20124875, 좋아하는 음식은 마라맛 우유입니다.\""
   ]
  },
  {
   "cell_type": "code",
   "execution_count": null,
   "id": "8393a6d6",
   "metadata": {},
   "outputs": [],
   "source": []
  },
  {
   "cell_type": "markdown",
   "id": "59095015",
   "metadata": {},
   "source": [
    "### Q10. 아래 그림을 참고하여 (1)과 (2) 두 수를 사용하여 (3), (4), (5), (6)의 값을 출력하시오. [10점]\n",
    "\n",
    "(총 4개의 값이 출력되어 있어야 함)"
   ]
  },
  {
   "cell_type": "markdown",
   "id": "40c80514",
   "metadata": {},
   "source": [
    "![formula](formula.png)"
   ]
  }
 ],
 "metadata": {
  "kernelspec": {
   "display_name": "Python 3 (ipykernel)",
   "language": "python",
   "name": "python3"
  },
  "language_info": {
   "codemirror_mode": {
    "name": "ipython",
    "version": 3
   },
   "file_extension": ".py",
   "mimetype": "text/x-python",
   "name": "python",
   "nbconvert_exporter": "python",
   "pygments_lexer": "ipython3",
   "version": "3.9.7"
  }
 },
 "nbformat": 4,
 "nbformat_minor": 5
}
