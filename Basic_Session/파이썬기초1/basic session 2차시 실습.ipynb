{
 "cells": [
  {
   "cell_type": "markdown",
   "id": "ed88fec9",
   "metadata": {},
   "source": [
    "# 변수 설정"
   ]
  },
  {
   "cell_type": "code",
   "execution_count": 1,
   "id": "dd99420c",
   "metadata": {},
   "outputs": [
    {
     "data": {
      "text/plain": [
       "10"
      ]
     },
     "execution_count": 1,
     "metadata": {},
     "output_type": "execute_result"
    }
   ],
   "source": [
    "x = 10\n",
    "x"
   ]
  },
  {
   "cell_type": "code",
   "execution_count": 2,
   "id": "9a36556f",
   "metadata": {},
   "outputs": [
    {
     "ename": "SyntaxError",
     "evalue": "invalid syntax (Temp/ipykernel_13108/802260653.py, line 1)",
     "output_type": "error",
     "traceback": [
      "\u001b[1;36m  File \u001b[1;32m\"C:\\Users\\glkw0\\AppData\\Local\\Temp/ipykernel_13108/802260653.py\"\u001b[1;36m, line \u001b[1;32m1\u001b[0m\n\u001b[1;33m    23d = 9 #숫자로 변수명 시작 불가능\u001b[0m\n\u001b[1;37m      ^\u001b[0m\n\u001b[1;31mSyntaxError\u001b[0m\u001b[1;31m:\u001b[0m invalid syntax\n"
     ]
    }
   ],
   "source": [
    "23d = 9 #숫자로 변수명 시작 불가능"
   ]
  },
  {
   "cell_type": "code",
   "execution_count": 3,
   "id": "274daadf",
   "metadata": {},
   "outputs": [
    {
     "ename": "SyntaxError",
     "evalue": "invalid syntax (Temp/ipykernel_13108/37454874.py, line 1)",
     "output_type": "error",
     "traceback": [
      "\u001b[1;36m  File \u001b[1;32m\"C:\\Users\\glkw0\\AppData\\Local\\Temp/ipykernel_13108/37454874.py\"\u001b[1;36m, line \u001b[1;32m1\u001b[0m\n\u001b[1;33m    if = 7 #파이썬 내장 함수의 이름 사용 불가능\u001b[0m\n\u001b[1;37m       ^\u001b[0m\n\u001b[1;31mSyntaxError\u001b[0m\u001b[1;31m:\u001b[0m invalid syntax\n"
     ]
    }
   ],
   "source": [
    "if = 7 #파이썬 내장 함수의 이름 사용 불가능"
   ]
  },
  {
   "cell_type": "code",
   "execution_count": 4,
   "id": "c1d33224",
   "metadata": {},
   "outputs": [
    {
     "data": {
      "text/plain": [
       "'Hello, World!'"
      ]
     },
     "execution_count": 4,
     "metadata": {},
     "output_type": "execute_result"
    }
   ],
   "source": [
    "y = 'Hello, World!' #문자열도 저장 가능\n",
    "y"
   ]
  },
  {
   "cell_type": "code",
   "execution_count": 5,
   "id": "f41f30d0",
   "metadata": {},
   "outputs": [
    {
     "name": "stdout",
     "output_type": "stream",
     "text": [
      "10 20 30\n"
     ]
    }
   ],
   "source": [
    "a,b,c = 10,20,30 #여러 개의 변수 한 번에 생성 가능\n",
    "print(a,b,c)"
   ]
  },
  {
   "cell_type": "code",
   "execution_count": 6,
   "id": "dd02cc68",
   "metadata": {},
   "outputs": [],
   "source": [
    "del a,b,c"
   ]
  },
  {
   "cell_type": "code",
   "execution_count": 7,
   "id": "531a4730",
   "metadata": {},
   "outputs": [
    {
     "ename": "NameError",
     "evalue": "name 'a' is not defined",
     "output_type": "error",
     "traceback": [
      "\u001b[1;31m---------------------------------------------------------------------------\u001b[0m",
      "\u001b[1;31mNameError\u001b[0m                                 Traceback (most recent call last)",
      "\u001b[1;32m~\\AppData\\Local\\Temp/ipykernel_13108/3823706527.py\u001b[0m in \u001b[0;36m<module>\u001b[1;34m\u001b[0m\n\u001b[1;32m----> 1\u001b[1;33m \u001b[0ma\u001b[0m \u001b[1;31m#변수는 삭제됨\u001b[0m\u001b[1;33m\u001b[0m\u001b[1;33m\u001b[0m\u001b[0m\n\u001b[0m",
      "\u001b[1;31mNameError\u001b[0m: name 'a' is not defined"
     ]
    }
   ],
   "source": [
    "a #변수는 삭제됨"
   ]
  },
  {
   "cell_type": "markdown",
   "id": "78a55ba3",
   "metadata": {},
   "source": [
    "# Data type"
   ]
  },
  {
   "cell_type": "markdown",
   "id": "5430187f",
   "metadata": {},
   "source": [
    "###  숫자형 numeric"
   ]
  },
  {
   "cell_type": "code",
   "execution_count": 8,
   "id": "cd0e57b0",
   "metadata": {},
   "outputs": [
    {
     "data": {
      "text/plain": [
       "int"
      ]
     },
     "execution_count": 8,
     "metadata": {},
     "output_type": "execute_result"
    }
   ],
   "source": [
    "type(4) #int는 정수형"
   ]
  },
  {
   "cell_type": "code",
   "execution_count": 9,
   "id": "50f5e98a",
   "metadata": {},
   "outputs": [
    {
     "data": {
      "text/plain": [
       "float"
      ]
     },
     "execution_count": 9,
     "metadata": {},
     "output_type": "execute_result"
    }
   ],
   "source": [
    "type(4.0) #float는 실수형"
   ]
  },
  {
   "cell_type": "code",
   "execution_count": 10,
   "id": "79cc2de8",
   "metadata": {},
   "outputs": [
    {
     "data": {
      "text/plain": [
       "str"
      ]
     },
     "execution_count": 10,
     "metadata": {},
     "output_type": "execute_result"
    }
   ],
   "source": [
    "type('4.0') #str은 문자열"
   ]
  },
  {
   "cell_type": "markdown",
   "id": "7bf81933",
   "metadata": {},
   "source": [
    "### 문자열 string"
   ]
  },
  {
   "cell_type": "code",
   "execution_count": 11,
   "id": "89ecb067",
   "metadata": {},
   "outputs": [],
   "source": [
    "a = 'D&'\n",
    "b = 'A' #'',\"\" 로 둘러싸여 저장됨"
   ]
  },
  {
   "cell_type": "code",
   "execution_count": 12,
   "id": "711a7066",
   "metadata": {},
   "outputs": [
    {
     "name": "stdout",
     "output_type": "stream",
     "text": [
      "D&A AAA\n"
     ]
    }
   ],
   "source": [
    "print(a + b, b*3) #더하거나 곱하는 연산 가능"
   ]
  },
  {
   "cell_type": "code",
   "execution_count": 13,
   "id": "cab482ea",
   "metadata": {},
   "outputs": [],
   "source": [
    "a = 'Hello, world!'"
   ]
  },
  {
   "cell_type": "code",
   "execution_count": 14,
   "id": "5ad2b9eb",
   "metadata": {},
   "outputs": [
    {
     "data": {
      "text/plain": [
       "'o'"
      ]
     },
     "execution_count": 14,
     "metadata": {},
     "output_type": "execute_result"
    }
   ],
   "source": [
    "a[4] #4번째 자리에 있는 문자 추출"
   ]
  },
  {
   "cell_type": "code",
   "execution_count": 15,
   "id": "21273092",
   "metadata": {},
   "outputs": [
    {
     "data": {
      "text/plain": [
       "'d'"
      ]
     },
     "execution_count": 15,
     "metadata": {},
     "output_type": "execute_result"
    }
   ],
   "source": [
    "a[-2] #뒤에서부터 2번째 자리에 있는 문자 추출"
   ]
  },
  {
   "cell_type": "code",
   "execution_count": 16,
   "id": "43dee52f",
   "metadata": {},
   "outputs": [
    {
     "data": {
      "text/plain": [
       "'Hell'"
      ]
     },
     "execution_count": 16,
     "metadata": {},
     "output_type": "execute_result"
    }
   ],
   "source": [
    "a[0:4]"
   ]
  },
  {
   "cell_type": "code",
   "execution_count": 17,
   "id": "19cd9745",
   "metadata": {},
   "outputs": [
    {
     "data": {
      "text/plain": [
       "'Hello, '"
      ]
     },
     "execution_count": 17,
     "metadata": {},
     "output_type": "execute_result"
    }
   ],
   "source": [
    "a[:7]"
   ]
  },
  {
   "cell_type": "code",
   "execution_count": 18,
   "id": "6ee76f66",
   "metadata": {},
   "outputs": [
    {
     "data": {
      "text/plain": [
       "'Hello, world!'"
      ]
     },
     "execution_count": 18,
     "metadata": {},
     "output_type": "execute_result"
    }
   ],
   "source": [
    "a[:]"
   ]
  },
  {
   "cell_type": "code",
   "execution_count": 19,
   "id": "1c22803f",
   "metadata": {},
   "outputs": [
    {
     "data": {
      "text/plain": [
       "'!dlrow ,olleH'"
      ]
     },
     "execution_count": 19,
     "metadata": {},
     "output_type": "execute_result"
    }
   ],
   "source": [
    "a[::-1]"
   ]
  },
  {
   "cell_type": "markdown",
   "id": "133c7ce6",
   "metadata": {},
   "source": [
    "### 날짜형 datetime"
   ]
  },
  {
   "cell_type": "markdown",
   "id": "d5fa1c04",
   "metadata": {},
   "source": [
    "1) 날짜형 datetime.date 생성 및 날짜 간 차이"
   ]
  },
  {
   "cell_type": "code",
   "execution_count": 20,
   "id": "cfc8d454",
   "metadata": {},
   "outputs": [
    {
     "data": {
      "text/plain": [
       "datetime.timedelta(days=284)"
      ]
     },
     "execution_count": 20,
     "metadata": {},
     "output_type": "execute_result"
    }
   ],
   "source": [
    "import datetime\n",
    "\n",
    "christmas = datetime.date(2022, 12, 25)  \n",
    "today = datetime.date(2022, 3, 16)\n",
    "\n",
    "christmas - today      # 오늘부터 크리스마스까지 얼마나 남았나 확인중..."
   ]
  },
  {
   "cell_type": "code",
   "execution_count": 21,
   "id": "31796a79",
   "metadata": {},
   "outputs": [
    {
     "name": "stdout",
     "output_type": "stream",
     "text": [
      "2022\n",
      "12\n",
      "25\n",
      "6\n"
     ]
    }
   ],
   "source": [
    "print(christmas.year)\n",
    "print(christmas.month)\n",
    "print(christmas.day)\n",
    "print(christmas.weekday())  # weekday는 월요일부터 0"
   ]
  },
  {
   "cell_type": "markdown",
   "id": "72d7484d",
   "metadata": {},
   "source": [
    "2) datetime.datetime으로 시간까지 계산"
   ]
  },
  {
   "cell_type": "code",
   "execution_count": 22,
   "id": "4782d634",
   "metadata": {},
   "outputs": [
    {
     "data": {
      "text/plain": [
       "datetime.timedelta(seconds=74099, microseconds=710309)"
      ]
     },
     "execution_count": 22,
     "metadata": {},
     "output_type": "execute_result"
    }
   ],
   "source": [
    "now = datetime.datetime.now()  # now()로 현재\n",
    "report = datetime.datetime(2022, 3, 16, 9, 0, 0)  # 내일 1교시 전까지가 과제제출....\n",
    "\n",
    "report - now    # 시간이 얼마나 남았지?"
   ]
  },
  {
   "cell_type": "code",
   "execution_count": 23,
   "id": "73015dbc",
   "metadata": {},
   "outputs": [
    {
     "name": "stdout",
     "output_type": "stream",
     "text": [
      "2022\n",
      "3\n",
      "16\n",
      "9\n",
      "0\n",
      "0\n",
      "2\n"
     ]
    }
   ],
   "source": [
    "print(report.year)\n",
    "print(report.month)\n",
    "print(report.day)\n",
    "print(report.hour)\n",
    "print(report.minute)\n",
    "print(report.second)\n",
    "print(report.weekday())  # weekday는 월요일부터 0"
   ]
  },
  {
   "cell_type": "markdown",
   "id": "0a3e45b9",
   "metadata": {},
   "source": [
    "3) timedelta 객체로 n일 후 날짜 알아보기"
   ]
  },
  {
   "cell_type": "code",
   "execution_count": 24,
   "id": "397ee3f3",
   "metadata": {},
   "outputs": [
    {
     "data": {
      "text/plain": [
       "datetime.date(2022, 6, 20)"
      ]
     },
     "execution_count": 24,
     "metadata": {},
     "output_type": "execute_result"
    }
   ],
   "source": [
    "diff = datetime.timedelta(days = 96)  # 96일이라는 timedelta(날짜 간 차이)객체 생성\n",
    "\n",
    "today + diff  # 오늘부터 96일 후는??"
   ]
  },
  {
   "cell_type": "markdown",
   "id": "073f755c",
   "metadata": {},
   "source": [
    "### Pandas를 사용한 날짜형"
   ]
  },
  {
   "cell_type": "markdown",
   "id": "a6815a14",
   "metadata": {},
   "source": [
    "1) 날짜형 생성"
   ]
  },
  {
   "cell_type": "code",
   "execution_count": 25,
   "id": "19d107d9",
   "metadata": {},
   "outputs": [
    {
     "name": "stdout",
     "output_type": "stream",
     "text": [
      "2022-03-15 03:25:01.736410\n",
      "2022-03-15 12:25:01.736410\n"
     ]
    }
   ],
   "source": [
    "import pandas as pd\n",
    "\n",
    "now = pd.to_datetime(\"now\") # UTC(국제 표준시)기준\n",
    "today = pd.to_datetime(\"today\") # 우리나라 기준\n",
    "print(now)\n",
    "print(today)"
   ]
  },
  {
   "cell_type": "code",
   "execution_count": 26,
   "id": "2dbe22c6",
   "metadata": {},
   "outputs": [
    {
     "name": "stdout",
     "output_type": "stream",
     "text": [
      "2020-03-16 10:20:30\n",
      "2020-03-16 10:20:30\n",
      "2020-03-16 10:20:30\n"
     ]
    }
   ],
   "source": [
    "a = pd.to_datetime('2020-03-16 10:20:30', format = '%Y-%m-%d %H:%M:%S')\n",
    "b = pd.to_datetime('03162020 10:20:30',format='%m%d%Y %H:%M:%S')\n",
    "c = pd.to_datetime(\"2020/03/16 10:20:30\", format = \"%Y/%m/%d %H:%M:%S\")\n",
    "\n",
    "print(a)\n",
    "print(b)\n",
    "print(c)"
   ]
  },
  {
   "cell_type": "markdown",
   "id": "5617983d",
   "metadata": {},
   "source": [
    "### list"
   ]
  },
  {
   "cell_type": "code",
   "execution_count": 27,
   "id": "04348ad4",
   "metadata": {},
   "outputs": [],
   "source": [
    "a = [123, 'D&A','온라인',['a','b','c']]"
   ]
  },
  {
   "cell_type": "code",
   "execution_count": 28,
   "id": "110ccee4",
   "metadata": {},
   "outputs": [
    {
     "data": {
      "text/plain": [
       "'온라인'"
      ]
     },
     "execution_count": 28,
     "metadata": {},
     "output_type": "execute_result"
    }
   ],
   "source": [
    "a[2]"
   ]
  },
  {
   "cell_type": "code",
   "execution_count": 29,
   "id": "c664ecac",
   "metadata": {},
   "outputs": [
    {
     "data": {
      "text/plain": [
       "'c'"
      ]
     },
     "execution_count": 29,
     "metadata": {},
     "output_type": "execute_result"
    }
   ],
   "source": [
    "a[3][2]"
   ]
  },
  {
   "cell_type": "code",
   "execution_count": 30,
   "id": "b0d562d7",
   "metadata": {},
   "outputs": [
    {
     "data": {
      "text/plain": [
       "[123, 'D&A']"
      ]
     },
     "execution_count": 30,
     "metadata": {},
     "output_type": "execute_result"
    }
   ],
   "source": [
    "a[:2]"
   ]
  },
  {
   "cell_type": "code",
   "execution_count": 31,
   "id": "4fb51778",
   "metadata": {},
   "outputs": [
    {
     "data": {
      "text/plain": [
       "[1432, 'D&A', '온라인', ['a', 'b', 'c']]"
      ]
     },
     "execution_count": 31,
     "metadata": {},
     "output_type": "execute_result"
    }
   ],
   "source": [
    "a[0] = 1432 #a의 첫번째 원소 수정\n",
    "a"
   ]
  },
  {
   "cell_type": "markdown",
   "id": "4891b6f7",
   "metadata": {},
   "source": [
    "### tuple"
   ]
  },
  {
   "cell_type": "code",
   "execution_count": 32,
   "id": "19c9d789",
   "metadata": {},
   "outputs": [],
   "source": [
    "a = (13, 'dna','2020/04/01')"
   ]
  },
  {
   "cell_type": "code",
   "execution_count": 33,
   "id": "26405d96",
   "metadata": {},
   "outputs": [
    {
     "ename": "TypeError",
     "evalue": "'tuple' object does not support item assignment",
     "output_type": "error",
     "traceback": [
      "\u001b[1;31m---------------------------------------------------------------------------\u001b[0m",
      "\u001b[1;31mTypeError\u001b[0m                                 Traceback (most recent call last)",
      "\u001b[1;32m~\\AppData\\Local\\Temp/ipykernel_13108/3324421926.py\u001b[0m in \u001b[0;36m<module>\u001b[1;34m\u001b[0m\n\u001b[1;32m----> 1\u001b[1;33m \u001b[0ma\u001b[0m\u001b[1;33m[\u001b[0m\u001b[1;36m0\u001b[0m\u001b[1;33m]\u001b[0m \u001b[1;33m=\u001b[0m \u001b[1;36m23\u001b[0m \u001b[1;31m#tuple은 수정 불가능\u001b[0m\u001b[1;33m\u001b[0m\u001b[1;33m\u001b[0m\u001b[0m\n\u001b[0m",
      "\u001b[1;31mTypeError\u001b[0m: 'tuple' object does not support item assignment"
     ]
    }
   ],
   "source": [
    "a[0] = 23 #tuple은 수정 불가능"
   ]
  },
  {
   "cell_type": "code",
   "execution_count": 34,
   "id": "7c4ab5fd",
   "metadata": {},
   "outputs": [
    {
     "data": {
      "text/plain": [
       "(13, 'dna')"
      ]
     },
     "execution_count": 34,
     "metadata": {},
     "output_type": "execute_result"
    }
   ],
   "source": [
    "a[:2] #리스트와 같음"
   ]
  },
  {
   "cell_type": "markdown",
   "id": "6013f8ec",
   "metadata": {},
   "source": [
    "### dictionary"
   ]
  },
  {
   "cell_type": "code",
   "execution_count": 35,
   "id": "bbacba74",
   "metadata": {},
   "outputs": [],
   "source": [
    "dic = {\"이름\" : '백종원', \"직업\" : '개 훈련사', \"나이\" : 27}"
   ]
  },
  {
   "cell_type": "code",
   "execution_count": 36,
   "id": "f83623d7",
   "metadata": {},
   "outputs": [
    {
     "data": {
      "text/plain": [
       "dict"
      ]
     },
     "execution_count": 36,
     "metadata": {},
     "output_type": "execute_result"
    }
   ],
   "source": [
    "type(dic)"
   ]
  },
  {
   "cell_type": "markdown",
   "id": "5dcd0033",
   "metadata": {},
   "source": [
    "### set"
   ]
  },
  {
   "cell_type": "code",
   "execution_count": 37,
   "id": "ee0aae95",
   "metadata": {},
   "outputs": [],
   "source": [
    "s = {3,6,1}\n",
    "t = {2,3,4}"
   ]
  },
  {
   "cell_type": "code",
   "execution_count": 38,
   "id": "67412ca8",
   "metadata": {},
   "outputs": [
    {
     "data": {
      "text/plain": [
       "{3}"
      ]
     },
     "execution_count": 38,
     "metadata": {},
     "output_type": "execute_result"
    }
   ],
   "source": [
    "s & t #교집합"
   ]
  },
  {
   "cell_type": "code",
   "execution_count": 39,
   "id": "7be79b5a",
   "metadata": {},
   "outputs": [
    {
     "data": {
      "text/plain": [
       "{1, 2, 3, 4, 6}"
      ]
     },
     "execution_count": 39,
     "metadata": {},
     "output_type": "execute_result"
    }
   ],
   "source": [
    "s | t #중복 허용되지 않기 때문에 3 한번 출력"
   ]
  },
  {
   "cell_type": "code",
   "execution_count": 40,
   "id": "6cedcd90",
   "metadata": {},
   "outputs": [
    {
     "data": {
      "text/plain": [
       "{1, 6}"
      ]
     },
     "execution_count": 40,
     "metadata": {},
     "output_type": "execute_result"
    }
   ],
   "source": [
    "s - t #차집합"
   ]
  },
  {
   "cell_type": "markdown",
   "id": "efad16e1",
   "metadata": {},
   "source": [
    "# 연산자와 bool 자료형 함께 보기"
   ]
  },
  {
   "cell_type": "markdown",
   "id": "46d1556d",
   "metadata": {},
   "source": [
    "1) 논리 연산자"
   ]
  },
  {
   "cell_type": "markdown",
   "id": "49495a97",
   "metadata": {},
   "source": [
    "#### and는 두 값이  모두 true이면 true"
   ]
  },
  {
   "cell_type": "code",
   "execution_count": 41,
   "id": "4d2b4d14",
   "metadata": {},
   "outputs": [
    {
     "data": {
      "text/plain": [
       "True"
      ]
     },
     "execution_count": 41,
     "metadata": {},
     "output_type": "execute_result"
    }
   ],
   "source": [
    "3<6 and 2<3"
   ]
  },
  {
   "cell_type": "code",
   "execution_count": 42,
   "id": "0781ea34",
   "metadata": {},
   "outputs": [
    {
     "data": {
      "text/plain": [
       "False"
      ]
     },
     "execution_count": 42,
     "metadata": {},
     "output_type": "execute_result"
    }
   ],
   "source": [
    "3<4 and 1>7"
   ]
  },
  {
   "cell_type": "markdown",
   "id": "d154f5db",
   "metadata": {},
   "source": [
    "#### or는 두 값 중  하나라도 true이면 true"
   ]
  },
  {
   "cell_type": "code",
   "execution_count": 43,
   "id": "a306cfaf",
   "metadata": {},
   "outputs": [
    {
     "data": {
      "text/plain": [
       "True"
      ]
     },
     "execution_count": 43,
     "metadata": {},
     "output_type": "execute_result"
    }
   ],
   "source": [
    "3<10 or 4<9"
   ]
  },
  {
   "cell_type": "code",
   "execution_count": 44,
   "id": "274f5576",
   "metadata": {},
   "outputs": [
    {
     "data": {
      "text/plain": [
       "True"
      ]
     },
     "execution_count": 44,
     "metadata": {},
     "output_type": "execute_result"
    }
   ],
   "source": [
    "0>1 or 9>7"
   ]
  },
  {
   "cell_type": "markdown",
   "id": "43e7e86e",
   "metadata": {},
   "source": [
    "#### not 은 반댓값 출력"
   ]
  },
  {
   "cell_type": "code",
   "execution_count": 45,
   "id": "f34f6d13",
   "metadata": {
    "scrolled": true
   },
   "outputs": [
    {
     "data": {
      "text/plain": [
       "True"
      ]
     },
     "execution_count": 45,
     "metadata": {},
     "output_type": "execute_result"
    }
   ],
   "source": [
    "not False #False 나 True는 첫번째 문자가 대문자 주의"
   ]
  },
  {
   "cell_type": "markdown",
   "id": "31ecb790",
   "metadata": {},
   "source": [
    "2) 멤버 연산자"
   ]
  },
  {
   "cell_type": "code",
   "execution_count": 46,
   "id": "cd34e0ec",
   "metadata": {},
   "outputs": [],
   "source": [
    "a = 1\n",
    "b = [1, 2, 3, 4]"
   ]
  },
  {
   "cell_type": "code",
   "execution_count": 47,
   "id": "c646a0b9",
   "metadata": {},
   "outputs": [
    {
     "data": {
      "text/plain": [
       "True"
      ]
     },
     "execution_count": 47,
     "metadata": {},
     "output_type": "execute_result"
    }
   ],
   "source": [
    "a in b"
   ]
  },
  {
   "cell_type": "code",
   "execution_count": 48,
   "id": "7d542fa5",
   "metadata": {},
   "outputs": [
    {
     "data": {
      "text/plain": [
       "False"
      ]
     },
     "execution_count": 48,
     "metadata": {},
     "output_type": "execute_result"
    }
   ],
   "source": [
    "a not in b"
   ]
  },
  {
   "cell_type": "markdown",
   "id": "acf9dd8b",
   "metadata": {},
   "source": [
    "3) 비교 연산자"
   ]
  },
  {
   "cell_type": "code",
   "execution_count": 49,
   "id": "abbbaca3",
   "metadata": {},
   "outputs": [
    {
     "data": {
      "text/plain": [
       "True"
      ]
     },
     "execution_count": 49,
     "metadata": {},
     "output_type": "execute_result"
    }
   ],
   "source": [
    "\"파이썬\" == \"파이썬\""
   ]
  },
  {
   "cell_type": "code",
   "execution_count": 50,
   "id": "89e54ac0",
   "metadata": {},
   "outputs": [
    {
     "data": {
      "text/plain": [
       "True"
      ]
     },
     "execution_count": 50,
     "metadata": {},
     "output_type": "execute_result"
    }
   ],
   "source": [
    "a = 1234\n",
    "b = 1234\n",
    "\n",
    "a == b"
   ]
  },
  {
   "cell_type": "code",
   "execution_count": 51,
   "id": "baa9d170",
   "metadata": {},
   "outputs": [
    {
     "data": {
      "text/plain": [
       "False"
      ]
     },
     "execution_count": 51,
     "metadata": {},
     "output_type": "execute_result"
    }
   ],
   "source": [
    "a != b"
   ]
  },
  {
   "cell_type": "markdown",
   "id": "7cb470d8",
   "metadata": {},
   "source": [
    "# 문자열 포매팅"
   ]
  },
  {
   "cell_type": "markdown",
   "id": "d09727a2",
   "metadata": {},
   "source": [
    "1) 포맷코드"
   ]
  },
  {
   "cell_type": "code",
   "execution_count": 52,
   "id": "a6a89213",
   "metadata": {},
   "outputs": [
    {
     "name": "stdout",
     "output_type": "stream",
     "text": [
      "저는 1학년이고 이름은 최유진입니다\n"
     ]
    }
   ],
   "source": [
    "grade = 1\n",
    "name = \"최유진\"\n",
    "\n",
    "intro = \"저는 %d학년이고 이름은 %s입니다\"%(grade, name)\n",
    "print(intro)"
   ]
  },
  {
   "cell_type": "code",
   "execution_count": 53,
   "id": "b5a3ec38",
   "metadata": {},
   "outputs": [
    {
     "name": "stdout",
     "output_type": "stream",
     "text": [
      "파이는 3.14\n"
     ]
    }
   ],
   "source": [
    "pie = 3.14159\n",
    "\n",
    "print(\"파이는 %0.2f\"%pie)  # 포맷코드의 %와 f사이에 소수점 아래 자리 지정"
   ]
  },
  {
   "cell_type": "code",
   "execution_count": 54,
   "id": "7ff78c8f",
   "metadata": {},
   "outputs": [
    {
     "name": "stdout",
     "output_type": "stream",
     "text": [
      "김씨는 대한민국 인구의 20%가 넘는다\n"
     ]
    }
   ],
   "source": [
    "print(\"김씨는 대한민국 인구의 %s%%가 넘는다\"%20)  # %기호를 포맷코드와 같이 넣으려면 %%로"
   ]
  },
  {
   "cell_type": "markdown",
   "id": "1609de88",
   "metadata": {},
   "source": [
    "2) format함수 사용"
   ]
  },
  {
   "cell_type": "code",
   "execution_count": 55,
   "id": "e53b8927",
   "metadata": {},
   "outputs": [
    {
     "name": "stdout",
     "output_type": "stream",
     "text": [
      "저는 손흥민이고 1992년생입니다.\n"
     ]
    }
   ],
   "source": [
    "name = \"손흥민\"\n",
    "birth = 1992\n",
    "\n",
    "print(\"저는 {0}이고 {1}년생입니다.\".format(name, birth))   # 인덱스에 해당하는 변수 삽입"
   ]
  },
  {
   "cell_type": "code",
   "execution_count": 56,
   "id": "53c256d7",
   "metadata": {},
   "outputs": [
    {
     "name": "stdout",
     "output_type": "stream",
     "text": [
      "저는 1992이고 손흥민년생입니다.\n"
     ]
    }
   ],
   "source": [
    "print(\"저는 {1}이고 {0}년생입니다.\".format(name, birth))"
   ]
  },
  {
   "cell_type": "code",
   "execution_count": 57,
   "id": "928c6456",
   "metadata": {},
   "outputs": [
    {
     "name": "stdout",
     "output_type": "stream",
     "text": [
      "저는 김지호이고 1997년생입니다.\n"
     ]
    }
   ],
   "source": [
    "print(\"저는 {name}이고 {birth}년생입니다.\".format(name = \"김지호\", birth = 1997))"
   ]
  },
  {
   "cell_type": "code",
   "execution_count": 58,
   "id": "b392e7a4",
   "metadata": {},
   "outputs": [
    {
     "name": "stdout",
     "output_type": "stream",
     "text": [
      "파이는 3.14\n"
     ]
    }
   ],
   "source": [
    "name = \"파이\"\n",
    "pie = 3.14159\n",
    "\n",
    "print(\"{0}는 {1:.2f}\".format(name, pie))  # format함수로 소수점 아래 자리 지정"
   ]
  },
  {
   "cell_type": "markdown",
   "id": "25eebd84",
   "metadata": {},
   "source": [
    "3) f-string"
   ]
  },
  {
   "cell_type": "code",
   "execution_count": 59,
   "id": "02c2dafe",
   "metadata": {},
   "outputs": [
    {
     "name": "stdout",
     "output_type": "stream",
     "text": [
      "저는 손흥민이고 1992년생입니다.\n"
     ]
    }
   ],
   "source": [
    "name = \"손흥민\"\n",
    "birth = 1992\n",
    "\n",
    "print(f\"저는 {name}이고 {birth}년생입니다.\")"
   ]
  },
  {
   "cell_type": "code",
   "execution_count": 60,
   "id": "207ee3e5",
   "metadata": {},
   "outputs": [
    {
     "name": "stdout",
     "output_type": "stream",
     "text": [
      "제 이름은 강형욱이고 나이는 28, 직업은 강아지입니다.\n"
     ]
    }
   ],
   "source": [
    "user = {\"이름\" : \"강형욱\", \"나이\" : 28, \"직업\" : \"강아지\"}\n",
    "\n",
    "print(f\"제 이름은 {user['이름']}이고 나이는 {user['나이']}, 직업은 {user['직업']}입니다.\")"
   ]
  },
  {
   "cell_type": "code",
   "execution_count": 61,
   "id": "9c817563",
   "metadata": {},
   "outputs": [
    {
     "name": "stdout",
     "output_type": "stream",
     "text": [
      "파이는 3.14\n"
     ]
    }
   ],
   "source": [
    "name = \"파이\"\n",
    "pie = 3.14159\n",
    "\n",
    "print(f\"{name}는 {pie:.2f}\")  # f-string 기법으로 소수점 아래 자리 지정"
   ]
  },
  {
   "cell_type": "markdown",
   "id": "a41790a7",
   "metadata": {},
   "source": [
    "# 메소드"
   ]
  },
  {
   "cell_type": "markdown",
   "id": "1645de84",
   "metadata": {},
   "source": [
    "### string"
   ]
  },
  {
   "cell_type": "code",
   "execution_count": 62,
   "id": "1b6a586a",
   "metadata": {},
   "outputs": [],
   "source": [
    "a = 'I ate chicken'"
   ]
  },
  {
   "cell_type": "code",
   "execution_count": 63,
   "id": "cf334cea",
   "metadata": {},
   "outputs": [
    {
     "data": {
      "text/plain": [
       "2"
      ]
     },
     "execution_count": 63,
     "metadata": {},
     "output_type": "execute_result"
    }
   ],
   "source": [
    "a.count('c')  # 요소 개수 세기"
   ]
  },
  {
   "cell_type": "code",
   "execution_count": 64,
   "id": "80e9dc7f",
   "metadata": {},
   "outputs": [
    {
     "data": {
      "text/plain": [
       "8"
      ]
     },
     "execution_count": 64,
     "metadata": {},
     "output_type": "execute_result"
    }
   ],
   "source": [
    "a.find('i') # 문자열 중 input과 같은 첫번째 요소의 인덱스값 출력"
   ]
  },
  {
   "cell_type": "code",
   "execution_count": 65,
   "id": "87c2e5a5",
   "metadata": {},
   "outputs": [
    {
     "data": {
      "text/plain": [
       "'I buy chicken'"
      ]
     },
     "execution_count": 65,
     "metadata": {},
     "output_type": "execute_result"
    }
   ],
   "source": [
    "a.replace('ate','buy') # 문자열 내 첫 번째 input을 두 번째 input으로 대체"
   ]
  },
  {
   "cell_type": "code",
   "execution_count": 66,
   "id": "c04b5509",
   "metadata": {},
   "outputs": [
    {
     "data": {
      "text/plain": [
       "['I', 'ate', 'chicken']"
      ]
     },
     "execution_count": 66,
     "metadata": {},
     "output_type": "execute_result"
    }
   ],
   "source": [
    "a.split(\" \") # input 기준으로 문자열을 나누어 리스트에 저장"
   ]
  },
  {
   "cell_type": "code",
   "execution_count": 67,
   "id": "4eb22fad",
   "metadata": {},
   "outputs": [
    {
     "data": {
      "text/plain": [
       "'I1 1a1t1e1 1c1h1i1c1k1e1n'"
      ]
     },
     "execution_count": 67,
     "metadata": {},
     "output_type": "execute_result"
    }
   ],
   "source": [
    "'1'.join(a)  # 문자열 내 요소 사이에 input 삽입"
   ]
  },
  {
   "cell_type": "code",
   "execution_count": 68,
   "id": "e25459ac",
   "metadata": {},
   "outputs": [
    {
     "data": {
      "text/plain": [
       "'i ate chicken'"
      ]
     },
     "execution_count": 68,
     "metadata": {},
     "output_type": "execute_result"
    }
   ],
   "source": [
    "a.lower()   # 문자열의 대문자를 소문자로 바꿈"
   ]
  },
  {
   "cell_type": "code",
   "execution_count": 69,
   "id": "a015a8b5",
   "metadata": {},
   "outputs": [
    {
     "data": {
      "text/plain": [
       "'I ATE CHICKEN'"
      ]
     },
     "execution_count": 69,
     "metadata": {},
     "output_type": "execute_result"
    }
   ],
   "source": [
    "a.upper()   # 문자열의 소문자를 대문자로 바꿈"
   ]
  },
  {
   "cell_type": "code",
   "execution_count": 70,
   "id": "95e2f418",
   "metadata": {},
   "outputs": [
    {
     "data": {
      "text/plain": [
       "' i AM HUNGRY '"
      ]
     },
     "execution_count": 70,
     "metadata": {},
     "output_type": "execute_result"
    }
   ],
   "source": [
    "b = ' I am hungry '\n",
    "\n",
    "b.swapcase()  # 대문자는 소문자로, 소문자는 대문자로"
   ]
  },
  {
   "cell_type": "code",
   "execution_count": 71,
   "id": "ea8c7386",
   "metadata": {},
   "outputs": [
    {
     "data": {
      "text/plain": [
       "' i am hungry '"
      ]
     },
     "execution_count": 71,
     "metadata": {},
     "output_type": "execute_result"
    }
   ],
   "source": [
    "b.capitalize() # 문자열의 첫번째 글자는 대문자로, 나머지는 소문자로"
   ]
  },
  {
   "cell_type": "code",
   "execution_count": 72,
   "id": "7b474044",
   "metadata": {},
   "outputs": [
    {
     "data": {
      "text/plain": [
       "' I am hungry'"
      ]
     },
     "execution_count": 72,
     "metadata": {},
     "output_type": "execute_result"
    }
   ],
   "source": [
    "b.rstrip() # 오른쪽 공백 지우기"
   ]
  },
  {
   "cell_type": "code",
   "execution_count": 73,
   "id": "d6d54e83",
   "metadata": {},
   "outputs": [
    {
     "data": {
      "text/plain": [
       "'I am hungry '"
      ]
     },
     "execution_count": 73,
     "metadata": {},
     "output_type": "execute_result"
    }
   ],
   "source": [
    "b.lstrip() #왼쪽 공백 지우기"
   ]
  },
  {
   "cell_type": "code",
   "execution_count": 74,
   "id": "b5a8ed48",
   "metadata": {},
   "outputs": [
    {
     "data": {
      "text/plain": [
       "'I am hungry'"
      ]
     },
     "execution_count": 74,
     "metadata": {},
     "output_type": "execute_result"
    }
   ],
   "source": [
    "b = '       I am hungry         '\n",
    "b.strip()    # 양쪽 공백 지우기"
   ]
  },
  {
   "cell_type": "code",
   "execution_count": 75,
   "id": "b5e98034",
   "metadata": {},
   "outputs": [
    {
     "data": {
      "text/plain": [
       "5"
      ]
     },
     "execution_count": 75,
     "metadata": {},
     "output_type": "execute_result"
    }
   ],
   "source": [
    "len(\"아 배고파\") # 문자열 요소 개수 세기"
   ]
  },
  {
   "cell_type": "code",
   "execution_count": 76,
   "id": "7e55da22",
   "metadata": {},
   "outputs": [
    {
     "data": {
      "text/plain": [
       "True"
      ]
     },
     "execution_count": 76,
     "metadata": {},
     "output_type": "execute_result"
    }
   ],
   "source": [
    "c = \"pythonispython\"\n",
    "\n",
    "c.startswith(\"p\")  # 문자열이 input값으로 시작하는지 여부를 bool자료형으로 반환"
   ]
  },
  {
   "cell_type": "code",
   "execution_count": 77,
   "id": "ade6da1e",
   "metadata": {},
   "outputs": [
    {
     "data": {
      "text/plain": [
       "True"
      ]
     },
     "execution_count": 77,
     "metadata": {},
     "output_type": "execute_result"
    }
   ],
   "source": [
    "c.endswith(\"n\") # 문자열이 input값으로 시작하는지 여부를 bool자료형으로 반환"
   ]
  },
  {
   "cell_type": "code",
   "execution_count": 78,
   "id": "a1fe001d",
   "metadata": {},
   "outputs": [
    {
     "data": {
      "text/plain": [
       "True"
      ]
     },
     "execution_count": 78,
     "metadata": {},
     "output_type": "execute_result"
    }
   ],
   "source": [
    "c = \"1004ANGEL\"\n",
    "\n",
    "c.isalnum()  # 문자열이 숫자와 알파벳으로 이루어져있으면 True, 아니면 False"
   ]
  },
  {
   "cell_type": "code",
   "execution_count": 79,
   "id": "e7fd99aa",
   "metadata": {},
   "outputs": [
    {
     "data": {
      "text/plain": [
       "False"
      ]
     },
     "execution_count": 79,
     "metadata": {},
     "output_type": "execute_result"
    }
   ],
   "source": [
    "c.isalpha() # 문자열이 문자(영어, 한글)만 포함하고 있으면 True, 아니면 False"
   ]
  },
  {
   "cell_type": "code",
   "execution_count": 80,
   "id": "20c9c713",
   "metadata": {},
   "outputs": [
    {
     "data": {
      "text/plain": [
       "False"
      ]
     },
     "execution_count": 80,
     "metadata": {},
     "output_type": "execute_result"
    }
   ],
   "source": [
    "c.isdigit() # 문자열이 숫자로만 이루어져있으면 True, 아니면 False"
   ]
  },
  {
   "cell_type": "markdown",
   "id": "956a81ee",
   "metadata": {},
   "source": [
    "### list"
   ]
  },
  {
   "cell_type": "code",
   "execution_count": 81,
   "id": "25c711e5",
   "metadata": {},
   "outputs": [],
   "source": [
    "a = [4,3,2,1]"
   ]
  },
  {
   "cell_type": "code",
   "execution_count": 82,
   "id": "ea974505",
   "metadata": {},
   "outputs": [
    {
     "data": {
      "text/plain": [
       "[4, 3, 2, 1, 5]"
      ]
     },
     "execution_count": 82,
     "metadata": {},
     "output_type": "execute_result"
    }
   ],
   "source": [
    "a.append(5)   # 리스트에 input값 추가\n",
    "a            "
   ]
  },
  {
   "cell_type": "code",
   "execution_count": 83,
   "id": "2f457e00",
   "metadata": {},
   "outputs": [
    {
     "data": {
      "text/plain": [
       "[5, 1, 2, 3, 4]"
      ]
     },
     "execution_count": 83,
     "metadata": {},
     "output_type": "execute_result"
    }
   ],
   "source": [
    "a.reverse() # 리스트를 현재 순서에서 뒤집기\n",
    "a"
   ]
  },
  {
   "cell_type": "code",
   "execution_count": 84,
   "id": "6ee9df9f",
   "metadata": {},
   "outputs": [
    {
     "data": {
      "text/plain": [
       "[1, 2, 3, 4, 5]"
      ]
     },
     "execution_count": 84,
     "metadata": {},
     "output_type": "execute_result"
    }
   ],
   "source": [
    "a.sort()   # 리스트 요소를 요소값 기준으로 정렬\n",
    "a"
   ]
  },
  {
   "cell_type": "code",
   "execution_count": 85,
   "id": "ccd3e838",
   "metadata": {},
   "outputs": [
    {
     "data": {
      "text/plain": [
       "[1, 3, 4, 5]"
      ]
     },
     "execution_count": 85,
     "metadata": {},
     "output_type": "execute_result"
    }
   ],
   "source": [
    "a.remove(2)  # 리스트 내 input 값 삭제\n",
    "a"
   ]
  },
  {
   "cell_type": "code",
   "execution_count": 86,
   "id": "b392b427",
   "metadata": {},
   "outputs": [
    {
     "data": {
      "text/plain": [
       "5"
      ]
     },
     "execution_count": 86,
     "metadata": {},
     "output_type": "execute_result"
    }
   ],
   "source": [
    "a.pop() # 리스트 마지막 요소 반환 후 삭제"
   ]
  },
  {
   "cell_type": "code",
   "execution_count": 87,
   "id": "44b87ca5",
   "metadata": {},
   "outputs": [
    {
     "data": {
      "text/plain": [
       "[1, 3, 4]"
      ]
     },
     "execution_count": 87,
     "metadata": {},
     "output_type": "execute_result"
    }
   ],
   "source": [
    "a"
   ]
  },
  {
   "cell_type": "code",
   "execution_count": 88,
   "id": "1ffd23e1",
   "metadata": {},
   "outputs": [
    {
     "data": {
      "text/plain": [
       "1"
      ]
     },
     "execution_count": 88,
     "metadata": {},
     "output_type": "execute_result"
    }
   ],
   "source": [
    "a.count(1)  # 리스트 내 input값 요소 개수 세기"
   ]
  },
  {
   "cell_type": "code",
   "execution_count": 89,
   "id": "7998d9cd",
   "metadata": {},
   "outputs": [
    {
     "data": {
      "text/plain": [
       "[1, 3, 4, 5, 6, 7, 8, 9]"
      ]
     },
     "execution_count": 89,
     "metadata": {},
     "output_type": "execute_result"
    }
   ],
   "source": [
    "a.extend([5, 6, 7, 8, 9])  # 리스트를 input으로 받아 리스트 확장\n",
    "a"
   ]
  },
  {
   "cell_type": "code",
   "execution_count": 90,
   "id": "9abf82c9",
   "metadata": {},
   "outputs": [
    {
     "data": {
      "text/plain": [
       "[3, 4, 5, 6, 7, 8, 9]"
      ]
     },
     "execution_count": 90,
     "metadata": {},
     "output_type": "execute_result"
    }
   ],
   "source": [
    "del a[0]  # 요소의 인덱스 값으로 요소 삭제\n",
    "a"
   ]
  },
  {
   "cell_type": "code",
   "execution_count": 91,
   "id": "383e680f",
   "metadata": {},
   "outputs": [
    {
     "data": {
      "text/plain": [
       "7"
      ]
     },
     "execution_count": 91,
     "metadata": {},
     "output_type": "execute_result"
    }
   ],
   "source": [
    "len(a) # 요소의 개수 세기(길이)"
   ]
  },
  {
   "cell_type": "code",
   "execution_count": 92,
   "id": "801c6a2d",
   "metadata": {},
   "outputs": [
    {
     "data": {
      "text/plain": [
       "[]"
      ]
     },
     "execution_count": 92,
     "metadata": {},
     "output_type": "execute_result"
    }
   ],
   "source": [
    "a.clear()\n",
    "a"
   ]
  },
  {
   "cell_type": "code",
   "execution_count": 93,
   "id": "11c35445",
   "metadata": {},
   "outputs": [
    {
     "data": {
      "text/plain": [
       "[1, 2, 3, 4]"
      ]
     },
     "execution_count": 93,
     "metadata": {},
     "output_type": "execute_result"
    }
   ],
   "source": [
    "list({1, 2, 3, 4})  # list자료형으로 바꾸기"
   ]
  },
  {
   "cell_type": "markdown",
   "id": "6b564144",
   "metadata": {},
   "source": [
    "### dictionary"
   ]
  },
  {
   "cell_type": "code",
   "execution_count": 94,
   "id": "2d03baf9",
   "metadata": {},
   "outputs": [],
   "source": [
    "player = {\"손흥민\" : 7, \"메시\" : 30, \"홀란드\" : 9, \"네이마르\" : 10}"
   ]
  },
  {
   "cell_type": "code",
   "execution_count": 95,
   "id": "0fccb0d0",
   "metadata": {},
   "outputs": [
    {
     "data": {
      "text/plain": [
       "dict_keys(['손흥민', '메시', '홀란드', '네이마르'])"
      ]
     },
     "execution_count": 95,
     "metadata": {},
     "output_type": "execute_result"
    }
   ],
   "source": [
    "player.keys()"
   ]
  },
  {
   "cell_type": "code",
   "execution_count": 96,
   "id": "c94978cb",
   "metadata": {},
   "outputs": [
    {
     "data": {
      "text/plain": [
       "dict_values([7, 30, 9, 10])"
      ]
     },
     "execution_count": 96,
     "metadata": {},
     "output_type": "execute_result"
    }
   ],
   "source": [
    "player.values()"
   ]
  },
  {
   "cell_type": "code",
   "execution_count": 97,
   "id": "6ca730ae",
   "metadata": {},
   "outputs": [
    {
     "data": {
      "text/plain": [
       "dict_items([('손흥민', 7), ('메시', 30), ('홀란드', 9), ('네이마르', 10)])"
      ]
     },
     "execution_count": 97,
     "metadata": {},
     "output_type": "execute_result"
    }
   ],
   "source": [
    "player.items()"
   ]
  },
  {
   "cell_type": "code",
   "execution_count": 98,
   "id": "d41f9334",
   "metadata": {},
   "outputs": [
    {
     "data": {
      "text/plain": [
       "4"
      ]
     },
     "execution_count": 98,
     "metadata": {},
     "output_type": "execute_result"
    }
   ],
   "source": [
    "len(player)"
   ]
  },
  {
   "cell_type": "code",
   "execution_count": 99,
   "id": "732e981d",
   "metadata": {},
   "outputs": [
    {
     "data": {
      "text/plain": [
       "{'손흥민': 7, '메시': 10, '홀란드': 9, '네이마르': 10}"
      ]
     },
     "execution_count": 99,
     "metadata": {},
     "output_type": "execute_result"
    }
   ],
   "source": [
    "player['메시'] = 10\n",
    "player"
   ]
  },
  {
   "cell_type": "code",
   "execution_count": 100,
   "id": "86636135",
   "metadata": {},
   "outputs": [
    {
     "data": {
      "text/plain": [
       "{'손흥민': 7, '메시': 10, '홀란드': 9, '네이마르': 10, '김은욱': 0}"
      ]
     },
     "execution_count": 100,
     "metadata": {},
     "output_type": "execute_result"
    }
   ],
   "source": [
    "player[\"김은욱\"] = 0\n",
    "player"
   ]
  },
  {
   "cell_type": "code",
   "execution_count": 101,
   "id": "bc6fc00d",
   "metadata": {},
   "outputs": [
    {
     "data": {
      "text/plain": [
       "7"
      ]
     },
     "execution_count": 101,
     "metadata": {},
     "output_type": "execute_result"
    }
   ],
   "source": [
    "player.get(\"손흥민\")"
   ]
  },
  {
   "cell_type": "code",
   "execution_count": 102,
   "id": "d8d0b941",
   "metadata": {},
   "outputs": [
    {
     "data": {
      "text/plain": [
       "7"
      ]
     },
     "execution_count": 102,
     "metadata": {},
     "output_type": "execute_result"
    }
   ],
   "source": [
    "player[\"손흥민\"]"
   ]
  },
  {
   "cell_type": "code",
   "execution_count": 103,
   "id": "af102722",
   "metadata": {},
   "outputs": [],
   "source": [
    "player.clear()"
   ]
  },
  {
   "cell_type": "code",
   "execution_count": 104,
   "id": "8b2d560f",
   "metadata": {},
   "outputs": [
    {
     "data": {
      "text/plain": [
       "{}"
      ]
     },
     "execution_count": 104,
     "metadata": {},
     "output_type": "execute_result"
    }
   ],
   "source": [
    "player"
   ]
  },
  {
   "cell_type": "markdown",
   "id": "5b13798f",
   "metadata": {},
   "source": [
    "# 자주 쓰이는 함수"
   ]
  },
  {
   "cell_type": "markdown",
   "id": "27220aa7",
   "metadata": {},
   "source": [
    "1) enumerate()"
   ]
  },
  {
   "cell_type": "code",
   "execution_count": 105,
   "id": "d5a2acc7",
   "metadata": {},
   "outputs": [
    {
     "name": "stdout",
     "output_type": "stream",
     "text": [
      "(0, '이렇게')\n",
      "(1, '파이썬')\n",
      "(2, '고수가')\n",
      "(3, '된다')\n"
     ]
    }
   ],
   "source": [
    "a = [\"이렇게\", \"파이썬\", \"고수가\", \"된다\"]  \n",
    "  \n",
    "for i in enumerate(a):         # 이 문장은 enumerate 안에 있는 값을 하나씩 꺼내오는 거라 이해하면 됩니다\n",
    "    print(i)                   # 출력결과처럼 enumerate를 통해 a의 각 요소가 인덱스값과 매칭되어 튜플로 저장"
   ]
  },
  {
   "cell_type": "markdown",
   "id": "3bbfe99f",
   "metadata": {},
   "source": [
    "2) list()"
   ]
  },
  {
   "cell_type": "code",
   "execution_count": 106,
   "id": "3a999f38",
   "metadata": {},
   "outputs": [
    {
     "data": {
      "text/plain": [
       "[1, 2, 3]"
      ]
     },
     "execution_count": 106,
     "metadata": {},
     "output_type": "execute_result"
    }
   ],
   "source": [
    "list({1, 2, 3})  # 다른 자료형을 list로 바꾸는 함수"
   ]
  },
  {
   "cell_type": "markdown",
   "id": "8341e996",
   "metadata": {},
   "source": [
    "3) range"
   ]
  },
  {
   "cell_type": "code",
   "execution_count": 107,
   "id": "3fd88c79",
   "metadata": {},
   "outputs": [
    {
     "data": {
      "text/plain": [
       "[0, 2, 4, 6, 8]"
      ]
     },
     "execution_count": 107,
     "metadata": {},
     "output_type": "execute_result"
    }
   ],
   "source": [
    "list(range(0, 10, 2))   #  0 -> 시작지점   10 -> 끝지점   2 -> 스텝\n",
    "                        #  스텝 생략 시 기본값은 1'\n",
    "                        #  시작지점 생략시 기본값은 0"
   ]
  },
  {
   "cell_type": "code",
   "execution_count": 108,
   "id": "e39156f9",
   "metadata": {},
   "outputs": [
    {
     "data": {
      "text/plain": [
       "[0, 1, 2, 3, 4, 5, 6, 7, 8, 9]"
      ]
     },
     "execution_count": 108,
     "metadata": {},
     "output_type": "execute_result"
    }
   ],
   "source": [
    "list(range(10)) # 시작지점 생략시 기본값은 0"
   ]
  },
  {
   "cell_type": "markdown",
   "id": "456a67e8",
   "metadata": {},
   "source": [
    "4) zip()"
   ]
  },
  {
   "cell_type": "code",
   "execution_count": 109,
   "id": "8a8599e1",
   "metadata": {},
   "outputs": [
    {
     "data": {
      "text/plain": [
       "[(1, 'a'), (2, 'b'), (3, 'c')]"
      ]
     },
     "execution_count": 109,
     "metadata": {},
     "output_type": "execute_result"
    }
   ],
   "source": [
    "a = [1, 2, 3]\n",
    "b = [\"a\", \"b\", \"c\"]\n",
    "\n",
    "list(zip(a, b))        # 길이가 같은 두 자료형의 각 요소를 인덱스값 기준으로 매칭시켜줌"
   ]
  },
  {
   "cell_type": "markdown",
   "id": "0fe793a1",
   "metadata": {},
   "source": [
    "5) sum()"
   ]
  },
  {
   "cell_type": "code",
   "execution_count": 110,
   "id": "f01fd7ee",
   "metadata": {},
   "outputs": [
    {
     "data": {
      "text/plain": [
       "15"
      ]
     },
     "execution_count": 110,
     "metadata": {},
     "output_type": "execute_result"
    }
   ],
   "source": [
    "a = [1, 2, 3, 4, 5]\n",
    "sum(a)         # 자료형의 각 값들의 합을 계산"
   ]
  },
  {
   "cell_type": "markdown",
   "id": "a5fd5454",
   "metadata": {},
   "source": [
    "6) max()"
   ]
  },
  {
   "cell_type": "code",
   "execution_count": 111,
   "id": "8cdb652b",
   "metadata": {},
   "outputs": [
    {
     "data": {
      "text/plain": [
       "5"
      ]
     },
     "execution_count": 111,
     "metadata": {},
     "output_type": "execute_result"
    }
   ],
   "source": [
    "max(a)     # 최대값 출력"
   ]
  },
  {
   "cell_type": "markdown",
   "id": "20b21628",
   "metadata": {},
   "source": [
    "7) min()"
   ]
  },
  {
   "cell_type": "code",
   "execution_count": 112,
   "id": "01b6886e",
   "metadata": {},
   "outputs": [
    {
     "data": {
      "text/plain": [
       "1"
      ]
     },
     "execution_count": 112,
     "metadata": {},
     "output_type": "execute_result"
    }
   ],
   "source": [
    "min(a)   # 최소값 출력"
   ]
  },
  {
   "cell_type": "markdown",
   "id": "9e08b012",
   "metadata": {},
   "source": [
    "8) abs()"
   ]
  },
  {
   "cell_type": "code",
   "execution_count": 113,
   "id": "368644e9",
   "metadata": {},
   "outputs": [
    {
     "data": {
      "text/plain": [
       "12"
      ]
     },
     "execution_count": 113,
     "metadata": {},
     "output_type": "execute_result"
    }
   ],
   "source": [
    "abs(-12)   # 숫자형의 절대값 출력"
   ]
  },
  {
   "cell_type": "markdown",
   "id": "151eea8b",
   "metadata": {},
   "source": [
    "9) round()"
   ]
  },
  {
   "cell_type": "code",
   "execution_count": 114,
   "id": "5590c43e",
   "metadata": {},
   "outputs": [
    {
     "data": {
      "text/plain": [
       "3.14"
      ]
     },
     "execution_count": 114,
     "metadata": {},
     "output_type": "execute_result"
    }
   ],
   "source": [
    "round(3.14159, 2)   # 첫 번째 input을 두 번째 input만큼 소수점 아래자리 반영\n",
    "                    # 두 번째 input 기본값은 0"
   ]
  },
  {
   "cell_type": "markdown",
   "id": "be61cdd3",
   "metadata": {},
   "source": [
    "10) str()"
   ]
  },
  {
   "cell_type": "code",
   "execution_count": 115,
   "id": "5aea6624",
   "metadata": {},
   "outputs": [
    {
     "data": {
      "text/plain": [
       "'1234'"
      ]
     },
     "execution_count": 115,
     "metadata": {},
     "output_type": "execute_result"
    }
   ],
   "source": [
    "str(1234)     # 문자열로 바꿔줌"
   ]
  },
  {
   "cell_type": "markdown",
   "id": "1fe7ae6b",
   "metadata": {},
   "source": [
    "11) int()"
   ]
  },
  {
   "cell_type": "code",
   "execution_count": 116,
   "id": "cb6c96fd",
   "metadata": {},
   "outputs": [
    {
     "name": "stdout",
     "output_type": "stream",
     "text": [
      "1234\n",
      "3\n"
     ]
    }
   ],
   "source": [
    "print(int(\"1234\"))\n",
    "print(int(3.14159))    # 정수형으로 바꿔줌"
   ]
  },
  {
   "cell_type": "markdown",
   "id": "5ebda8a0",
   "metadata": {},
   "source": [
    "12) float()"
   ]
  },
  {
   "cell_type": "code",
   "execution_count": 117,
   "id": "c6746fac",
   "metadata": {},
   "outputs": [
    {
     "data": {
      "text/plain": [
       "12.0"
      ]
     },
     "execution_count": 117,
     "metadata": {},
     "output_type": "execute_result"
    }
   ],
   "source": [
    "float(12)      # 실수형으로 바꿔줌"
   ]
  }
 ],
 "metadata": {
  "kernelspec": {
   "display_name": "Python 3 (ipykernel)",
   "language": "python",
   "name": "python3"
  },
  "language_info": {
   "codemirror_mode": {
    "name": "ipython",
    "version": 3
   },
   "file_extension": ".py",
   "mimetype": "text/x-python",
   "name": "python",
   "nbconvert_exporter": "python",
   "pygments_lexer": "ipython3",
   "version": "3.9.7"
  }
 },
 "nbformat": 4,
 "nbformat_minor": 5
}
