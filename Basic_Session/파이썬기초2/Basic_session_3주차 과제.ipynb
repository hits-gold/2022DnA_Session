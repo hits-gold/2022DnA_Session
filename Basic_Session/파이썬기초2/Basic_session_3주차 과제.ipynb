{
 "cells": [
  {
   "cell_type": "markdown",
   "id": "79c6454a",
   "metadata": {},
   "source": [
    "### Q1. 아래와같은 직각삼각형을 출력해보시오. [5점]\n",
    "```\n",
    "*****\n",
    "****\n",
    "***\n",
    "**\n",
    "*\n",
    "```"
   ]
  },
  {
   "cell_type": "markdown",
   "id": "e51aa6dd",
   "metadata": {},
   "source": [
    "(1) for문을 사용해보세요"
   ]
  },
  {
   "cell_type": "code",
   "execution_count": null,
   "id": "407480b2",
   "metadata": {},
   "outputs": [],
   "source": []
  },
  {
   "cell_type": "markdown",
   "id": "67a0c3d6",
   "metadata": {},
   "source": [
    "(2) while문을 사용해보세요"
   ]
  },
  {
   "cell_type": "code",
   "execution_count": null,
   "id": "2b690e4f",
   "metadata": {},
   "outputs": [],
   "source": []
  },
  {
   "cell_type": "markdown",
   "id": "82a6d643",
   "metadata": {},
   "source": [
    "### Q2. for문을 사용하여 1부터 486까지를 더한 값을 구해보세요"
   ]
  },
  {
   "cell_type": "code",
   "execution_count": null,
   "id": "f69ae430",
   "metadata": {},
   "outputs": [],
   "source": []
  },
  {
   "cell_type": "markdown",
   "id": "6fc6ef4d",
   "metadata": {},
   "source": [
    "### Q3. 적금에 1000만원을 저금했을 때 복리로 이자를 지급한다고 할 때 복리이자율이 연4%라면 2000만원이 되려면 몇 년이 걸리는지 구하세요\n",
    "\n",
    "(금액이 정확히 2000만원이 되는 것을 의미하는 것이 아니라 2000만원이 넘어가는 것을 의미함.)"
   ]
  },
  {
   "cell_type": "code",
   "execution_count": null,
   "id": "a01f88e4",
   "metadata": {},
   "outputs": [],
   "source": [
    "money = 1000\n",
    "year = 0\n",
    "\n"
   ]
  },
  {
   "cell_type": "markdown",
   "id": "fdaa1177",
   "metadata": {},
   "source": [
    "### Q4. 이름과 년생이 dictionary에 담겨있을 때 번호를 부여하고 다음과 같이 출력하세요"
   ]
  },
  {
   "cell_type": "markdown",
   "id": "95b2d20e",
   "metadata": {},
   "source": [
    "출력결과\n",
    "```\n",
    "번호 : 1, 유아 : 96\n",
    "번호 : 2, 지호 : 97\n",
    "번호 : 3, 미미 : 96\n",
    "번호 : 4, 아린 : 99\n",
    "번호 : 5, 승희 : 96\n",
    "번호 : 6, 효정 : 95\n",
    "번호 : 7, 유빈 : 97\n",
    "```"
   ]
  },
  {
   "cell_type": "code",
   "execution_count": null,
   "id": "5e7780d8",
   "metadata": {},
   "outputs": [],
   "source": [
    "info = {\"유아\" : 95, \"지호\" : 97, \"미미\" : 95, \"아린\" : 99, \"승희\" : 96, \"효정\" : 94, \"유빈\" : 97}\n",
    "\n"
   ]
  },
  {
   "cell_type": "markdown",
   "id": "f45ecda3",
   "metadata": {},
   "source": [
    "### Q5. 숫자를 입력받아 주어진 수가 1이 될때까지 다음 작업을 반복하고 반복한 횟수를 구하시오"
   ]
  },
  {
   "cell_type": "markdown",
   "id": "a9b66158",
   "metadata": {},
   "source": [
    "(단, 작업을 500번 반복해도 1이 되지 않는다면 –1을 출력하시오.)\n",
    "```\n",
    "1-1. 입력된 수가 짝수라면 2로 나눈다.\n",
    "1-2. 입력된 수가 홀수라면 3을 곱하고 1을 더한다.\n",
    "2. 결과로 나온 수에 같은 작업을 1이 될 때까지 반복한다.\n",
    "\n",
    "[ 입력예시 ] 6  \n",
    "[ 출력예시 ] 8 (6 -> 3 -> 10 -> 5 -> 16 -> 8 -> 4 -> 2 -> 1)\n",
    "```"
   ]
  },
  {
   "cell_type": "code",
   "execution_count": null,
   "id": "88c7d281",
   "metadata": {},
   "outputs": [],
   "source": [
    "num = int(input('숫자를 입력하시오 : '))\n",
    "\n",
    "\n"
   ]
  },
  {
   "cell_type": "markdown",
   "id": "8095d687",
   "metadata": {},
   "source": [
    "### Q6. list comprehension을 사용해 다음 문제를 푸시오"
   ]
  },
  {
   "cell_type": "code",
   "execution_count": null,
   "id": "dd972b1c",
   "metadata": {},
   "outputs": [],
   "source": [
    "names = [\"릴러말즈\", \"양홍원\", \"애쉬아일랜드\", \"성시경\", \"씨잼\", \"언에듀케이티드키드\", \"오왼\", \"아이유\",\n",
    "       \"DPR LIVE\", \"넬\", \"언오피셜보이\", \"김똥꼬발랄\", \"빅뱅컴백해요ㅎㅎ\", \"김승민\", \"지바노프\"]"
   ]
  },
  {
   "cell_type": "markdown",
   "id": "69b7d7e6",
   "metadata": {},
   "source": [
    "1) names 리스트에 담긴 이름 중 네 글자 이상인 이름만 새로운 리스트에 담아 출력해보세요"
   ]
  },
  {
   "cell_type": "code",
   "execution_count": null,
   "id": "81c950d1",
   "metadata": {},
   "outputs": [],
   "source": []
  },
  {
   "cell_type": "markdown",
   "id": "ee2065c4",
   "metadata": {},
   "source": [
    "2) names의 이름 중 1)에서 만든 리스트에 없는 이름을 새 리스트에 담아 출력해보세요"
   ]
  },
  {
   "cell_type": "code",
   "execution_count": null,
   "id": "23410c20",
   "metadata": {},
   "outputs": [],
   "source": []
  },
  {
   "cell_type": "markdown",
   "id": "a7994d7e",
   "metadata": {},
   "source": [
    "### Q7. 다음 딕셔너리에서 items 메소드를 이용하여 딕셔너리에서 가장 큰 value를 가진 key를 출력해보시오"
   ]
  },
  {
   "cell_type": "code",
   "execution_count": null,
   "id": "ac872faa",
   "metadata": {},
   "outputs": [],
   "source": [
    "my_dict = {'정답아님' : 20, '이것이 출력되야합니다' : 45, '이것도 아님' : 10, '이것도!' : 35}\n",
    "\n"
   ]
  },
  {
   "cell_type": "markdown",
   "id": "02d1fc9f",
   "metadata": {},
   "source": [
    "### Q8. 숫자를 입력받아 주어진 수가 1이 될때까지 다음 작업을 반복하고 반복한 횟수를 구하시오. [15점]\n",
    "\n",
    "(단, 작업을 500번 반복해도 1이 되지 않는다면 –1을 출력하시오.)\n",
    "```\n",
    "1-1. 입력된 수가 짝수라면 2로 나눈다.\n",
    "1-2. 입력된 수가 홀수라면 3을 곱하고 1을 더한다.\n",
    "2. 결과로 나온 수에 같은 작업을 1이 될 때까지 반복한다.\n",
    "\n",
    "[ 입력예시 ] 6  \n",
    "[ 출력예시 ] 8 (6 -> 3 -> 10 -> 5 -> 16 -> 8 -> 4 -> 2 -> 1)\n",
    "```"
   ]
  },
  {
   "cell_type": "code",
   "execution_count": null,
   "id": "c0219bd6",
   "metadata": {},
   "outputs": [],
   "source": [
    "num = int(input('숫자를 입력하시오 : '))\n",
    "\n"
   ]
  },
  {
   "cell_type": "markdown",
   "id": "d35188b3",
   "metadata": {},
   "source": [
    "### Q9. 오바마 연설문을 가져와 가장 많이 언급되는 단어와 그것의 횟수를 출력하세요\n",
    "       (1) words 변수에 담긴 문자열을 띄어쓰기 기준으로 나눈다.\n",
    "       (2) words의 각 단어들을 key로, 각 단어의 횟수를 value로 하는 dictionary를 만든다.\n",
    "       (3) value가 가장 큰 key와 value를 출력한다!"
   ]
  },
  {
   "cell_type": "code",
   "execution_count": null,
   "id": "e6b97a85",
   "metadata": {},
   "outputs": [],
   "source": [
    "# 텍스트 화일을 열고 words라는 변수에 저장\n",
    "with open('Obama_words.txt', 'r') as f:\n",
    "    words = f.read()\n",
    "    f.close()\n",
    "    \n",
    "print(words)"
   ]
  },
  {
   "cell_type": "code",
   "execution_count": null,
   "id": "442ec744",
   "metadata": {},
   "outputs": [],
   "source": [
    "# 이 셀에 문제를 푸세요!\n",
    "\n",
    "\n"
   ]
  },
  {
   "cell_type": "markdown",
   "id": "64b28af5",
   "metadata": {},
   "source": [
    "### Q10. 다음 그림과 같이 밑변의 길이와 높이가 n인 삼각형에서 맨 위 꼭짓점부터 반시계 방향으로 숫자를 채워넣은 후, 첫 행부터 마지막 행까지 모두 순서대로 합친 새로운 배열을 출력하시오.\n",
    "```\n",
    "[ 입력예시 ] 4\n",
    "[ 출력예시 ] [1, 2, 9, 3, 10, 8, 4, 5, 6, 7]\n",
    "```"
   ]
  },
  {
   "cell_type": "markdown",
   "id": "a7ad4729",
   "metadata": {},
   "source": [
    "<img src=\"triangle.png\" align=\"left\" width=\"650px\" height=\"500px\">"
   ]
  },
  {
   "cell_type": "code",
   "execution_count": null,
   "id": "f68c8521",
   "metadata": {},
   "outputs": [],
   "source": [
    "n = int(input('밑변의 길이를 입력하시오 : '))\n",
    "\n"
   ]
  }
 ],
 "metadata": {
  "kernelspec": {
   "display_name": "Python 3 (ipykernel)",
   "language": "python",
   "name": "python3"
  },
  "language_info": {
   "codemirror_mode": {
    "name": "ipython",
    "version": 3
   },
   "file_extension": ".py",
   "mimetype": "text/x-python",
   "name": "python",
   "nbconvert_exporter": "python",
   "pygments_lexer": "ipython3",
   "version": "3.9.7"
  }
 },
 "nbformat": 4,
 "nbformat_minor": 5
}
