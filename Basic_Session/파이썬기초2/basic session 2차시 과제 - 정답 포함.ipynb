{
 "cells": [
  {
   "cell_type": "markdown",
   "id": "4f306ed8",
   "metadata": {},
   "source": [
    "### Q1. 본인의 이름, 학번, 좋아하는 음식을 value에 넣어 dictionary를 완성시켜 보세요"
   ]
  },
  {
   "cell_type": "code",
   "execution_count": 1,
   "id": "138d3985",
   "metadata": {},
   "outputs": [],
   "source": [
    "info = {\"이름\" :  \"박보검\", \"학번\" : 20201004, \"음식\" : \"고기를 많이 넣은 김치찌개\"}"
   ]
  },
  {
   "cell_type": "markdown",
   "id": "ec6d66b3",
   "metadata": {},
   "source": [
    "### Q2. 1번에서 만든 dictionary에서 좋아하는 음식(value)를 key를 사용해 출력해보세요"
   ]
  },
  {
   "cell_type": "code",
   "execution_count": 2,
   "id": "9fe160e1",
   "metadata": {},
   "outputs": [
    {
     "name": "stdout",
     "output_type": "stream",
     "text": [
      "고기를 많이 넣은 김치찌개\n"
     ]
    }
   ],
   "source": [
    "print(info[\"음식\"])"
   ]
  },
  {
   "cell_type": "markdown",
   "id": "0f24c91d",
   "metadata": {},
   "source": [
    "### Q3. 다음 a라는 리스트에서 중복된 요소가 제거된 리스트를 만들어 출력해보세요"
   ]
  },
  {
   "cell_type": "code",
   "execution_count": 3,
   "id": "72b2dcfe",
   "metadata": {},
   "outputs": [
    {
     "name": "stdout",
     "output_type": "stream",
     "text": [
      "[1, 2, 3, 4, 5]\n"
     ]
    }
   ],
   "source": [
    "a = [1, 1, 2, 2, 2, 3, 4, 5, 5]\n",
    "a = list(set(a))\n",
    "\n",
    "print(a)"
   ]
  },
  {
   "cell_type": "markdown",
   "id": "ac2e8b6d",
   "metadata": {},
   "source": [
    "### Q4. 1이라는 한 요소가 담긴 튜플을 만들어 출력해보세요"
   ]
  },
  {
   "cell_type": "code",
   "execution_count": 4,
   "id": "287a9b9b",
   "metadata": {},
   "outputs": [
    {
     "name": "stdout",
     "output_type": "stream",
     "text": [
      "(1,)\n"
     ]
    }
   ],
   "source": [
    "tu_ple = (1,)         \n",
    "print(tu_ple)"
   ]
  },
  {
   "cell_type": "markdown",
   "id": "908c41d3",
   "metadata": {},
   "source": [
    "### Q5. datetime 모듈을 사용해 올해 어린이날부터 크리스마스까지 얼마나 남았나 계산해보세요!"
   ]
  },
  {
   "cell_type": "code",
   "execution_count": 5,
   "id": "449dc81c",
   "metadata": {},
   "outputs": [
    {
     "data": {
      "text/plain": [
       "datetime.timedelta(days=234)"
      ]
     },
     "execution_count": 5,
     "metadata": {},
     "output_type": "execute_result"
    }
   ],
   "source": [
    "import datetime\n",
    "\n",
    "christmas = datetime.date(2022, 12, 25)\n",
    "kidsday = datetime.date(2022, 5, 5)\n",
    "\n",
    "christmas - kidsday"
   ]
  },
  {
   "cell_type": "markdown",
   "id": "520a7d8c",
   "metadata": {},
   "source": [
    "### Q6. 리스트 문제!"
   ]
  },
  {
   "cell_type": "code",
   "execution_count": 6,
   "id": "88067db9",
   "metadata": {},
   "outputs": [],
   "source": [
    "listt = [20, 120, 50, 70, 40, 90, 50, 80, 60]"
   ]
  },
  {
   "cell_type": "markdown",
   "id": "c90a944b",
   "metadata": {},
   "source": [
    "(1)\n",
    "listt에서 60을 제거하세요"
   ]
  },
  {
   "cell_type": "code",
   "execution_count": 7,
   "id": "3bd06ffa",
   "metadata": {},
   "outputs": [],
   "source": [
    "listt.remove(60)"
   ]
  },
  {
   "cell_type": "markdown",
   "id": "8b276040",
   "metadata": {},
   "source": [
    "(2)\n",
    "listt의 앞 네 요소를 출력하세요"
   ]
  },
  {
   "cell_type": "code",
   "execution_count": 8,
   "id": "42c7337e",
   "metadata": {},
   "outputs": [
    {
     "data": {
      "text/plain": [
       "[20, 120, 50, 70]"
      ]
     },
     "execution_count": 8,
     "metadata": {},
     "output_type": "execute_result"
    }
   ],
   "source": [
    "listt[:4]"
   ]
  },
  {
   "cell_type": "markdown",
   "id": "7100e0c4",
   "metadata": {},
   "source": [
    "(3)\n",
    "listt를 요소의 크기를 기준으로 정렬하세요"
   ]
  },
  {
   "cell_type": "code",
   "execution_count": 9,
   "id": "39e592ed",
   "metadata": {},
   "outputs": [
    {
     "data": {
      "text/plain": [
       "[20, 40, 50, 50, 70, 80, 90, 120]"
      ]
     },
     "execution_count": 9,
     "metadata": {},
     "output_type": "execute_result"
    }
   ],
   "source": [
    "listt.sort()\n",
    "listt"
   ]
  },
  {
   "cell_type": "markdown",
   "id": "ff8cb7cc",
   "metadata": {},
   "source": [
    "(4)\n",
    "listt의 맨 마지막 요소를 출력하세요"
   ]
  },
  {
   "cell_type": "code",
   "execution_count": 10,
   "id": "9d42892d",
   "metadata": {},
   "outputs": [
    {
     "data": {
      "text/plain": [
       "120"
      ]
     },
     "execution_count": 10,
     "metadata": {},
     "output_type": "execute_result"
    }
   ],
   "source": [
    "listt[-1]"
   ]
  },
  {
   "cell_type": "markdown",
   "id": "b4f78058",
   "metadata": {},
   "source": [
    "(5)\n",
    "listt의 요소를 모두 삭제한 후 리스트를 출력하세요"
   ]
  },
  {
   "cell_type": "code",
   "execution_count": 11,
   "id": "bb2d29ea",
   "metadata": {
    "scrolled": true
   },
   "outputs": [
    {
     "name": "stdout",
     "output_type": "stream",
     "text": [
      "[]\n"
     ]
    }
   ],
   "source": [
    "listt.clear()\n",
    "print(listt)"
   ]
  },
  {
   "cell_type": "markdown",
   "id": "722b4a03",
   "metadata": {},
   "source": [
    "(6) listt를 삭제하세요 (삭제 후 삭제가 되었나 출력까지 해보기)"
   ]
  },
  {
   "cell_type": "code",
   "execution_count": 12,
   "id": "12f3ec06",
   "metadata": {},
   "outputs": [],
   "source": [
    "del listt"
   ]
  },
  {
   "cell_type": "code",
   "execution_count": 13,
   "id": "b5a84d4e",
   "metadata": {},
   "outputs": [
    {
     "ename": "NameError",
     "evalue": "name 'listt' is not defined",
     "output_type": "error",
     "traceback": [
      "\u001b[1;31m---------------------------------------------------------------------------\u001b[0m",
      "\u001b[1;31mNameError\u001b[0m                                 Traceback (most recent call last)",
      "\u001b[1;32m~\\AppData\\Local\\Temp/ipykernel_15984/1006046645.py\u001b[0m in \u001b[0;36m<module>\u001b[1;34m\u001b[0m\n\u001b[1;32m----> 1\u001b[1;33m \u001b[0mlistt\u001b[0m\u001b[1;33m\u001b[0m\u001b[1;33m\u001b[0m\u001b[0m\n\u001b[0m",
      "\u001b[1;31mNameError\u001b[0m: name 'listt' is not defined"
     ]
    }
   ],
   "source": [
    "listt"
   ]
  },
  {
   "cell_type": "markdown",
   "id": "b978eed6",
   "metadata": {},
   "source": [
    "### Q7. 다음 두 리스트의 요소들을 동일한 인덱스를 가지는 요소끼리 튜플로 묶어, 이것을 다시 리스트에 담아 출력해보세요"
   ]
  },
  {
   "cell_type": "code",
   "execution_count": 14,
   "id": "7e5247fc",
   "metadata": {},
   "outputs": [
    {
     "data": {
      "text/plain": [
       "[('손흥민', 7), ('메시', 30), ('홀란드', 9), ('네이마르', 10)]"
      ]
     },
     "execution_count": 14,
     "metadata": {},
     "output_type": "execute_result"
    }
   ],
   "source": [
    "player = [\"손흥민\", \"메시\", \"홀란드\", \"네이마르\"]\n",
    "number = [7, 30, 9, 10]\n",
    "\n",
    "list(zip(player, number))"
   ]
  },
  {
   "cell_type": "markdown",
   "id": "afa78763",
   "metadata": {},
   "source": [
    "### Q8. 다음 수의 각 자리수를 변수를 사용하여 더해보세요"
   ]
  },
  {
   "cell_type": "code",
   "execution_count": 15,
   "id": "b7669355",
   "metadata": {},
   "outputs": [
    {
     "data": {
      "text/plain": [
       "17"
      ]
     },
     "execution_count": 15,
     "metadata": {},
     "output_type": "execute_result"
    }
   ],
   "source": [
    "a = 647\n",
    "\n",
    "a//100 + (a//10%10) + a%10\n",
    "\n",
    "#or\n",
    "\n",
    "new_a = list(str(a))\n",
    "int(new_a[0]) + int(new_a[1]) + int(new_a[2])"
   ]
  },
  {
   "cell_type": "markdown",
   "id": "1d729b39",
   "metadata": {},
   "source": [
    "### Q9. 1번에서 만들었던 dictionary에서 각 value를 가져와 문자열 포매팅을 사용해서 다음 문장을 출력해보세요\n",
    "(ex)\n",
    "\"제 이름은 김띵키이고, 학번은 20124875, 좋아하는 음식은 마라맛 우유입니다.\""
   ]
  },
  {
   "cell_type": "code",
   "execution_count": 17,
   "id": "86f3ffa1",
   "metadata": {},
   "outputs": [
    {
     "name": "stdout",
     "output_type": "stream",
     "text": [
      "제 이름은 박보검이고, 학번은 20201004, 좋아하는 음식은 고기를 많이 넣은 김치찌개입니다.\n"
     ]
    }
   ],
   "source": [
    "print(f\"제 이름은 {info['이름']}이고, 학번은 {info['학번']}, 좋아하는 음식은 {info['음식']}입니다.\")"
   ]
  },
  {
   "cell_type": "markdown",
   "id": "59095015",
   "metadata": {},
   "source": [
    "### Q10. 아래 그림을 참고하여 (1)과 (2) 두 수를 사용하여 (3), (4), (5), (6)의 값을 출력하시오. [10점]\n",
    "\n",
    "(총 4개의 값이 출력되어 있어야 함)"
   ]
  },
  {
   "cell_type": "markdown",
   "id": "40c80514",
   "metadata": {},
   "source": [
    "![formula](formula.png)"
   ]
  },
  {
   "cell_type": "code",
   "execution_count": 18,
   "id": "f85f0a73",
   "metadata": {},
   "outputs": [
    {
     "name": "stdout",
     "output_type": "stream",
     "text": [
      "2360\n",
      "3776\n",
      "1416\n",
      "181720\n"
     ]
    }
   ],
   "source": [
    "num1 = 472\n",
    "num2 = 385\n",
    "\n",
    "hundred = int(num2 / 100)\n",
    "ten = int((num2 % 100) / 10)\n",
    "one = int(num2 % 10)\n",
    " \n",
    "print(num1 * one)\n",
    "print(num1 * ten)\n",
    "print(num1 * hundred)\n",
    "print(num1 * num2)"
   ]
  },
  {
   "cell_type": "code",
   "execution_count": null,
   "id": "50c9ce30",
   "metadata": {},
   "outputs": [],
   "source": []
  }
 ],
 "metadata": {
  "kernelspec": {
   "display_name": "Python 3 (ipykernel)",
   "language": "python",
   "name": "python3"
  },
  "language_info": {
   "codemirror_mode": {
    "name": "ipython",
    "version": 3
   },
   "file_extension": ".py",
   "mimetype": "text/x-python",
   "name": "python",
   "nbconvert_exporter": "python",
   "pygments_lexer": "ipython3",
   "version": "3.9.7"
  }
 },
 "nbformat": 4,
 "nbformat_minor": 5
}
